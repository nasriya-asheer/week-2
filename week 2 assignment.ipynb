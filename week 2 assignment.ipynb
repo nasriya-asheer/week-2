{
 "cells": [
  {
   "cell_type": "code",
   "execution_count": 1,
   "id": "0b08edfc",
   "metadata": {},
   "outputs": [
    {
     "name": "stdout",
     "output_type": "stream",
     "text": [
      " enter a number between 1 and 10: 7\n",
      "Too high! Try again.\n"
     ]
    }
   ],
   "source": [
    "secretNumber= 5\n",
    "guess=int(input(\" enter a number between 1 and 10: \"))\n",
    "if (guess==secretNumber):\n",
    "    print(\"Congratulations! You guessed the number correctly!\")\n",
    "elif(guess>secretNumber):\n",
    "    print(\"Too high! Try again.\")\n",
    "else:\n",
    "    print(\"Too low! Try again.\")\n",
    "    "
   ]
  },
  {
   "cell_type": "code",
   "execution_count": 18,
   "id": "75dd54b2",
   "metadata": {},
   "outputs": [
    {
     "name": "stdout",
     "output_type": "stream",
     "text": [
      "Enter a positive integer: 5\n",
      "factorial of number is: 120\n"
     ]
    }
   ],
   "source": [
    "import math\n",
    "result=1\n",
    "number = int(input(\"Enter a positive integer: \"))\n",
    "if number>0:\n",
    "    for i in range(1, number+1):\n",
    "        result *= i\n",
    "    print('factorial of number is:',result)\n",
    "else:\n",
    "    print(\"the no is not positive,try again\")"
   ]
  },
  {
   "cell_type": "code",
   "execution_count": 21,
   "id": "74d5b7b7",
   "metadata": {},
   "outputs": [
    {
     "name": "stdout",
     "output_type": "stream",
     "text": [
      "Enter the minimum dimension (L): 40\n",
      "Enter the number of photos (N): 2\n",
      "Enter the dimensions (W H) of the photo: 20 30\n",
      "UPLOAD ANOTHER\n",
      "Enter the dimensions (W H) of the photo: 40 40\n",
      "ACCEPTED\n"
     ]
    }
   ],
   "source": [
    "L = int(input(\"Enter the minimum dimension (L): \"))\n",
    "N = int(input(\"Enter the number of photos (N): \"))\n",
    "for _ in range(N):\n",
    "    W, H = map(int, input(\"Enter the dimensions (W H) of the photo: \").split())\n",
    "    if W < L or H < L:\n",
    "        print(\"UPLOAD ANOTHER\")\n",
    "    elif W == H:\n",
    "        print(\"ACCEPTED\")\n",
    "    else:\n",
    "        print(\"CROP IT\")\n"
   ]
  },
  {
   "cell_type": "markdown",
   "id": "f038d288",
   "metadata": {},
   "source": []
  }
 ],
 "metadata": {
  "kernelspec": {
   "display_name": "Python 3 (ipykernel)",
   "language": "python",
   "name": "python3"
  },
  "language_info": {
   "codemirror_mode": {
    "name": "ipython",
    "version": 3
   },
   "file_extension": ".py",
   "mimetype": "text/x-python",
   "name": "python",
   "nbconvert_exporter": "python",
   "pygments_lexer": "ipython3",
   "version": "3.11.5"
  }
 },
 "nbformat": 4,
 "nbformat_minor": 5
}
